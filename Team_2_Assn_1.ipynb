{
 "cells": [
  {
   "cell_type": "code",
   "execution_count": 3,
   "metadata": {
    "collapsed": true
   },
   "outputs": [
    {
     "name": "stdout",
     "output_type": "stream",
     "text": [
      "0\n"
     ]
    }
   ],
   "source": [
    "import numpy as np\n",
    "\n",
    "#Array X as input\n",
    "X = np.array((1,1,1))\n",
    "X[0] = 1\n",
    "X[1] = input()\n",
    "X[2] = input()\n",
    "\n",
    "# def GD(L,weights):\n",
    "#     for i in range (0,500):\n",
    "#\n",
    "#         L_prime = L.diff(weights)\n",
    "#         lr = 0.1\n",
    "#         weights = weights - lr*(L_prime)\n",
    "\n",
    "\n",
    "\n",
    "\n",
    "def sigmoid(Z):\n",
    "    #Activation Function\n",
    "    y= 1 / (1 + np.exp(-Z))\n",
    "    if(y<0.5):\n",
    "        ans = 0\n",
    "    else:\n",
    "        ans = 1\n",
    "\n",
    "    return ans\n",
    "\n",
    "\n",
    "def dot(X):\n",
    "    #Defining Weights for AND neural network\n",
    "    W = ([-3 , 2 , 2])\n",
    "\n",
    "    #Inner Dot Product of X-Transpose and Weights\n",
    "    Z = np.dot(X.T,W)\n",
    "    return Z\n",
    "\n",
    "# def LossMSE(X,y):\n",
    "#     '''\n",
    "#     y = true output\n",
    "#     y1 = predicted output\n",
    "#     '''\n",
    "#     if((X[1]==0)and(X[2]==0)):\n",
    "#         y1  = 0\n",
    "#     if(X[1]==1and(X[2]==0)):\n",
    "#         y1  = 0\n",
    "#     if(X[1]==0and(X[2]==1)):\n",
    "#         y1  = 0\n",
    "#     if(X[1]==1and(X[2]==1)):\n",
    "#         y1  = 1\n",
    "#\n",
    "#     #Mean Square Error\n",
    "#     L = 0.5*(y-y1)**2\n",
    "#     return L\n",
    "#     pass\n",
    "\n",
    "#Main\n",
    "\n",
    "dot = dot(X)\n",
    "sigm = sigmoid(dot)\n",
    "# J = LossMSE(X,sigm)\n",
    "# weightsf = GD(J , weights)\n",
    "# dotf = np.dot(X.T,weightsf)\n",
    "# answer = sigmoid(dotf)\n",
    "# print(answer)\n",
    "print(sigm)"
   ]
  },
  {
   "cell_type": "code",
   "execution_count": null,
   "outputs": [],
   "source": [],
   "metadata": {
    "collapsed": false,
    "pycharm": {
     "name": "#%%\n"
    }
   }
  }
 ],
 "metadata": {
  "kernelspec": {
   "display_name": "Python 3",
   "language": "python",
   "name": "python3"
  },
  "language_info": {
   "codemirror_mode": {
    "name": "ipython",
    "version": 2
   },
   "file_extension": ".py",
   "mimetype": "text/x-python",
   "name": "python",
   "nbconvert_exporter": "python",
   "pygments_lexer": "ipython2",
   "version": "2.7.6"
  }
 },
 "nbformat": 4,
 "nbformat_minor": 0
}