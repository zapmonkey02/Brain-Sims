{
  "nbformat": 4,
  "nbformat_minor": 0,
  "metadata": {
    "colab": {
      "name": "brain_sims_week1.ipynb",
      "provenance": [],
      "collapsed_sections": []
    },
    "kernelspec": {
      "name": "python3",
      "display_name": "Python 3"
    },
    "language_info": {
      "name": "python"
    }
  },
  "cells": [
    {
      "cell_type": "code",
      "source": [
        "%matplotlib inline\n",
        "import math\n",
        "import time\n",
        "import numpy as np\n",
        "import tensorflow as tf"
      ],
      "metadata": {
        "id": "a81d6tRqc0le"
      },
      "execution_count": null,
      "outputs": []
    },
    {
      "cell_type": "code",
      "source": [
        "pip install mxnet\n"
      ],
      "metadata": {
        "colab": {
          "base_uri": "https://localhost:8080/"
        },
        "id": "oEStCcIzeTjJ",
        "outputId": "dd20094f-caec-45d1-a39b-7374e97f7248"
      },
      "execution_count": null,
      "outputs": [
        {
          "output_type": "stream",
          "name": "stdout",
          "text": [
            "Looking in indexes: https://pypi.org/simple, https://us-python.pkg.dev/colab-wheels/public/simple/\n",
            "Collecting mxnet\n",
            "  Downloading mxnet-1.9.1-py3-none-manylinux2014_x86_64.whl (49.1 MB)\n",
            "\u001b[K     |████████████████████████████████| 49.1 MB 2.3 MB/s \n",
            "\u001b[?25hRequirement already satisfied: requests<3,>=2.20.0 in /usr/local/lib/python3.7/dist-packages (from mxnet) (2.23.0)\n",
            "Collecting graphviz<0.9.0,>=0.8.1\n",
            "  Downloading graphviz-0.8.4-py2.py3-none-any.whl (16 kB)\n",
            "Requirement already satisfied: numpy<2.0.0,>1.16.0 in /usr/local/lib/python3.7/dist-packages (from mxnet) (1.21.6)\n",
            "Requirement already satisfied: urllib3!=1.25.0,!=1.25.1,<1.26,>=1.21.1 in /usr/local/lib/python3.7/dist-packages (from requests<3,>=2.20.0->mxnet) (1.24.3)\n",
            "Requirement already satisfied: certifi>=2017.4.17 in /usr/local/lib/python3.7/dist-packages (from requests<3,>=2.20.0->mxnet) (2022.5.18.1)\n",
            "Requirement already satisfied: idna<3,>=2.5 in /usr/local/lib/python3.7/dist-packages (from requests<3,>=2.20.0->mxnet) (2.10)\n",
            "Requirement already satisfied: chardet<4,>=3.0.2 in /usr/local/lib/python3.7/dist-packages (from requests<3,>=2.20.0->mxnet) (3.0.4)\n",
            "Installing collected packages: graphviz, mxnet\n",
            "  Attempting uninstall: graphviz\n",
            "    Found existing installation: graphviz 0.10.1\n",
            "    Uninstalling graphviz-0.10.1:\n",
            "      Successfully uninstalled graphviz-0.10.1\n",
            "Successfully installed graphviz-0.8.4 mxnet-1.9.1\n"
          ]
        }
      ]
    },
    {
      "cell_type": "code",
      "source": [
        "def sig(input):\n",
        "  return tf.sigmoid(input)"
      ],
      "metadata": {
        "id": "l-mVszW-vl9S"
      },
      "execution_count": null,
      "outputs": []
    },
    {
      "cell_type": "code",
      "source": [
        "def neuron(sigmoid_value):\n",
        "  if sigmoid_value > 0.5:\n",
        "    return 1\n",
        "  else:\n",
        "    return 0\n"
      ],
      "metadata": {
        "id": "t8Mgcp-HyOvT"
      },
      "execution_count": null,
      "outputs": []
    },
    {
      "cell_type": "code",
      "source": [
        "x = tf.constant([[0.,0.],[0.,1.],[1.,0.],[1.,1.]])\n",
        "# the element of x are output of 2 neurons"
      ],
      "metadata": {
        "id": "Xe7uaPxS2dmN"
      },
      "execution_count": null,
      "outputs": []
    },
    {
      "cell_type": "code",
      "source": [
        "def AND(x):\n",
        "  w0 = (-3)\n",
        "  w1 = [2.,2.]\n",
        "  y = w0 + tf.reduce_sum(w1*x)\n",
        "  z = sig(y);\n",
        "  return neuron(z)"
      ],
      "metadata": {
        "id": "HZW478rJqUg3"
      },
      "execution_count": null,
      "outputs": []
    },
    {
      "cell_type": "code",
      "source": [
        "def OR(x):\n",
        "  w0 = -2;\n",
        "  w1 = [2.1,2.1]\n",
        "  y = w0 + tf.reduce_sum(w1*x)\n",
        "  z = sig(y)\n",
        "  return neuron(z)"
      ],
      "metadata": {
        "id": "e8IZHii_10Yh"
      },
      "execution_count": null,
      "outputs": []
    },
    {
      "cell_type": "code",
      "source": [
        "def NAND(x):\n",
        "  w0 = (3)\n",
        "  w1 = [-2.,-2.]\n",
        "  y = w0 + tf.reduce_sum(w1*x)\n",
        "  z = sig(y);\n",
        "  return neuron(z) \n"
      ],
      "metadata": {
        "id": "8DdGLBJd_QYm"
      },
      "execution_count": null,
      "outputs": []
    },
    {
      "cell_type": "code",
      "source": [
        "def NOR(x):\n",
        "  w0 = 2;\n",
        "  w1 = [-2.1,-2.1]\n",
        "  y = w0 + tf.reduce_sum(w1*x)\n",
        "  z = sig(y)\n",
        "  return neuron(z)"
      ],
      "metadata": {
        "id": "wEUjBluiBwdU"
      },
      "execution_count": null,
      "outputs": []
    },
    {
      "cell_type": "code",
      "source": [
        "print(x)\n",
        "for i in range(4):\n",
        "  print(AND(x[i,:]))"
      ],
      "metadata": {
        "id": "0KnIHTlTF0u-",
        "colab": {
          "base_uri": "https://localhost:8080/"
        },
        "outputId": "7e327148-ff6a-4492-e503-68cfc12ebcee"
      },
      "execution_count": null,
      "outputs": [
        {
          "output_type": "stream",
          "name": "stdout",
          "text": [
            "tf.Tensor(\n",
            "[[0. 0.]\n",
            " [0. 1.]\n",
            " [1. 0.]\n",
            " [1. 1.]], shape=(4, 2), dtype=float32)\n",
            "0\n",
            "0\n",
            "0\n",
            "1\n"
          ]
        }
      ]
    }
  ]
}